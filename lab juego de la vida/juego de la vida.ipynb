{
 "cells": [
  {
   "cell_type": "code",
   "execution_count": null,
   "metadata": {
    "collapsed": true
   },
   "outputs": [],
   "source": [
    "from collections import namedtuple, defaultdict\n",
    "import time\n",
    "\n",
    "Cell = namedtuple('Cell', ['x', 'y'])\n",
    "\n",
    "\n",
    "def getNeighbours(cell):\n",
    "    for x in range(cell.x - 1, cell.x + 2):\n",
    "        for y in range(cell.y - 1, cell.y + 2):\n",
    "            if (x, y) != (cell.x, cell.y):\n",
    "                yield Cell(x, y)\n",
    "\n",
    "\n",
    "def getNeighbourCount(board):\n",
    "    neighbour_counts = defaultdict(int)\n",
    "    for cell in board:\n",
    "        for neighbour in getNeighbours(cell):\n",
    "            neighbour_counts[neighbour] += 1\n",
    "    return neighbour_counts\n",
    "\n",
    "\n",
    "def advanceBoard(board):\n",
    "    new_board = set()\n",
    "    for cell, count in getNeighbourCount(board).iteritems():\n",
    "        if count == 3 or (cell in board and count == 2):\n",
    "            new_board.add(cell)\n",
    "    return new_board\n",
    "\n",
    "\n",
    "def generateBoard(desc):\n",
    "    board = set()\n",
    "    for row, line in enumerate(desc.split(\"\\n\")):\n",
    "        for col, elem in enumerate(line):\n",
    "            if elem == 'X':\n",
    "                board.add(Cell(int(col), int(row)))\n",
    "    return board\n",
    "\n",
    "\n",
    "def boardToString(board, pad=0):\n",
    "    if not board:\n",
    "        return \"Simulación terminada\"\n",
    "    board_str = \"\"\n",
    "    xs = [x for (x, y) in board]\n",
    "    ys = [y for (x, y) in board]\n",
    "    for y in range(min(ys) - pad, max(ys) + 1 + pad):\n",
    "        for x in range(min(xs) - pad, max(xs) + 1 + pad):\n",
    "            board_str += 'X' if Cell(x, y) in board else '.'\n",
    "        board_str += '\\n'\n",
    "    return board_str.strip()\n",
    "\n",
    "\n",
    "if __name__ == '__main__':\n",
    "    f = generateBoard(\"......X.\\nXX......\\n.X...XXX\")\n",
    "    for _ in range(130):\n",
    "        f = advanceBoard(f)\n",
    "        print (\"\\033[2J\\033[1;1H\" + boardToString(f, 2))\n",
    "        time.sleep(0.1)"
   ]
  }
 ],
 "metadata": {
  "anaconda-cloud": {},
  "kernelspec": {
   "display_name": "Python [conda env:py3k]",
   "language": "python",
   "name": "conda-env-py3k-py"
  },
  "language_info": {
   "codemirror_mode": {
    "name": "ipython",
    "version": 3
   },
   "file_extension": ".py",
   "mimetype": "text/x-python",
   "name": "python",
   "nbconvert_exporter": "python",
   "pygments_lexer": "ipython3",
   "version": "3.5.2"
  }
 },
 "nbformat": 4,
 "nbformat_minor": 1
}
