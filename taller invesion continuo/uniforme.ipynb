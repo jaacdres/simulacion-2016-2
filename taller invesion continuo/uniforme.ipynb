{
 "cells": [
  {
   "cell_type": "code",
   "execution_count": 12,
   "metadata": {
    "collapsed": false
   },
   "outputs": [
    {
     "data": {
      "image/png": "[encoded data removed]",
      "text/plain": [
       "<matplotlib.figure.Figure at 0x21eaf367828>"
      ]
     },
     "metadata": {},
     "output_type": "display_data"
    }
   ],
   "source": [
    "%matplotlib inline \n",
    "import matplotlib.pyplot as plt\n",
    "import math\n",
    "\n",
    "def  congruencial(x0):\n",
    "    a = 1664525\n",
    "    b = 1013904223\n",
    "    m = 2**32\n",
    "    xi = x0\n",
    "    ui =0\n",
    "    xi = (a*xi + b)%(m)\n",
    "    ui = float(xi)/float(m)\n",
    "\n",
    "    return ui,xi\n",
    "\n",
    "def uniforme(iteraciones,a,b,semilla):\n",
    "    x0 = semilla\n",
    "    uniforme = []\n",
    "    for i in range(iteraciones):\n",
    "        ui,x0 = congruencial(x0)\n",
    "        \n",
    "        uni = a + ui*(b-a) \n",
    "        uniforme.append(uni)\n",
    "        \n",
    "    return uniforme\n",
    "\n",
    "def uniformeteorico(iteraciones,a,b):\n",
    "    teoricoX = []\n",
    "    teoricoY = []\n",
    "    \n",
    "    for i in range(a,b):\n",
    "        \n",
    "        x =i\n",
    "        \n",
    "        teoricoY.append(1/(b-a))\n",
    "        teoricoX.append(x)\n",
    "    return teoricoX,teoricoY\n",
    "        \n",
    "iteraciones = 3000\n",
    "a = 9\n",
    "b = 12\n",
    "semilla =20\n",
    "\n",
    "ax = plt.gca()\n",
    "uniforme = uniforme(iteraciones,a,b,semilla)\n",
    "\n",
    "teoricoX,teoricoY = uniformeteorico(100,a,b)\n",
    "\n",
    "count, bins, ignored = plt.hist(uniforme, 25, normed=True)\n",
    "ax.plot(teoricoX,teoricoY,'green')\n",
    "plt.show()"
   ]
  },
  {
   "cell_type": "code",
   "execution_count": null,
   "metadata": {
    "collapsed": true
   },
   "outputs": [],
   "source": []
  }
 ],
 "metadata": {
  "kernelspec": {
   "display_name": "Python [Root]",
   "language": "python",
   "name": "Python [Root]"
  },
  "language_info": {
   "codemirror_mode": {
    "name": "ipython",
    "version": 3
   },
   "file_extension": ".py",
   "mimetype": "text/x-python",
   "name": "python",
   "nbconvert_exporter": "python",
   "pygments_lexer": "ipython3",
   "version": "3.5.2"
  }
 },
 "nbformat": 4,
 "nbformat_minor": 0
}
