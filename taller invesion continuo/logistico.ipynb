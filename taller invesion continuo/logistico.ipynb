{
 "cells": [
  {
   "cell_type": "code",
   "execution_count": 22,
   "metadata": {
    "collapsed": false
   },
   "outputs": [
    {
     "data": {
      "image/png": "[encoded data removed]",
      "text/plain": [
       "<matplotlib.figure.Figure at 0x1edc1493c88>"
      ]
     },
     "metadata": {},
     "output_type": "display_data"
    }
   ],
   "source": [
    "%matplotlib inline \n",
    "import matplotlib.pyplot as plt\n",
    "import math\n",
    "\n",
    "def  congruencial(x0):\n",
    "    a = 1664525\n",
    "    b = 1013904223\n",
    "    m = 2**32\n",
    "    xi = x0\n",
    "    ui =0\n",
    "    xi = (a*xi + b)%(m)\n",
    "    ui = float(xi)/float(m)\n",
    "\n",
    "    return ui,xi\n",
    "\n",
    "def logistico(iteraciones,u,s,semilla):\n",
    "    x0 = semilla\n",
    "    x = []\n",
    "    for i in range(iteraciones):\n",
    "        p,x0 = congruencial(x0)\n",
    "        #print ui\n",
    "        prov = u + s*math.log(p/(1-p)) \n",
    "        x.append(prov)\n",
    "        #expon.append((-math.log(1-p))/landa)\n",
    "    return x\n",
    "\n",
    "\n",
    "def logisticoteorico(k,u,s):\n",
    "    teoricoX = []\n",
    "    teoricoY = []\n",
    "    k0=-u*200\n",
    "    k = k*100\n",
    "    for i in range(k0,k):\n",
    "      \n",
    "        x = float(float(i)/100.0)\n",
    "        expon = (math.exp(-(x-u)/2))\n",
    "        numY = expon/(s*((1+expon)**2))\n",
    "        teoricoY.append(numY)\n",
    "        teoricoX.append(x)\n",
    "        \n",
    "    return teoricoX,teoricoY\n",
    "    \n",
    "iteraciones = 7000\n",
    "u = 6\n",
    "s = 3\n",
    "k = 30\n",
    "semilla = 9\n",
    "\n",
    "ax = plt.gca()\n",
    "logistico = logistico(iteraciones,u,s,semilla)\n",
    "\n",
    "teoricoX,teoricoY = logisticoteorico(k,u,s)\n",
    "\n",
    "count, bins, ignored = plt.hist(logistico, 25, normed=True,color = 'blue')\n",
    "ax.plot(teoricoX,teoricoY,'green',linewidth=2.5)\n",
    "plt.show()"
   ]
  },
  {
   "cell_type": "code",
   "execution_count": null,
   "metadata": {
    "collapsed": true
   },
   "outputs": [],
   "source": []
  }
 ],
 "metadata": {
  "kernelspec": {
   "display_name": "Python [Root]",
   "language": "python",
   "name": "Python [Root]"
  },
  "language_info": {
   "codemirror_mode": {
    "name": "ipython",
    "version": 3
   },
   "file_extension": ".py",
   "mimetype": "text/x-python",
   "name": "python",
   "nbconvert_exporter": "python",
   "pygments_lexer": "ipython3",
   "version": "3.5.2"
  }
 },
 "nbformat": 4,
 "nbformat_minor": 0
}
