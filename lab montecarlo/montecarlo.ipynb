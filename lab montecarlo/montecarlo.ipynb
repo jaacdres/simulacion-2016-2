{
 "cells": [
  {
   "cell_type": "code",
   "execution_count": 7,
   "metadata": {
    "collapsed": false
   },
   "outputs": [
    {
     "name": "stdout",
     "output_type": "stream",
     "text": [
      "0.9670947031216545\n"
     ]
    }
   ],
   "source": [
    "import math\n",
    "import numpy as np\n",
    "\n",
    "def  congruencial(x0):\n",
    "    a = 1664525\n",
    "    b = 1013904223\n",
    "    m = 2**32\n",
    "    xi = x0\n",
    "    ui =0\n",
    "    xi = (a*xi + b)%(m)\n",
    "    ui = float(xi)/float(m)\n",
    "\n",
    "    return xi,ui\n",
    "\n",
    "\n",
    "def sumatoria(yi):\n",
    "    suma=0    \n",
    "    for x in yi:\n",
    "        suma=suma+x\n",
    "    \n",
    "    total = (1/len(yi))*suma\n",
    "    return total\n",
    "\n",
    "def Yi(n,semi):\n",
    "    xi = semi \n",
    "    yi =[]\n",
    "    for i in range(n):\n",
    "        xi,ui = congruencial(xi)\n",
    "        x = ui*2        \n",
    "        y = 2*math.exp(-x**2)\n",
    "        yi.append(y)\n",
    "        \n",
    "    return yi\n",
    "\n",
    "itera = 150\n",
    "sem = 9\n",
    "yi = Yi(itera,sem)\n",
    "\n",
    "suma = sumatoria(yi)\n",
    "print(suma)"
   ]
  },
  {
   "cell_type": "code",
   "execution_count": null,
   "metadata": {
    "collapsed": true
   },
   "outputs": [],
   "source": []
  }
 ],
 "metadata": {
  "kernelspec": {
   "display_name": "Python [Root]",
   "language": "python",
   "name": "Python [Root]"
  },
  "language_info": {
   "codemirror_mode": {
    "name": "ipython",
    "version": 3
   },
   "file_extension": ".py",
   "mimetype": "text/x-python",
   "name": "python",
   "nbconvert_exporter": "python",
   "pygments_lexer": "ipython3",
   "version": "3.5.2"
  }
 },
 "nbformat": 4,
 "nbformat_minor": 0
}
