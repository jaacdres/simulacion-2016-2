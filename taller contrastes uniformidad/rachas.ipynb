{
 "cells": [
  {
   "cell_type": "code",
   "execution_count": 4,
   "metadata": {
    "collapsed": false
   },
   "outputs": [
    {
     "name": "stdout",
     "output_type": "stream",
     "text": [
      "Ingrese Semilla: 7\n",
      "Ingrese Multiplicador: 6\n",
      "Ingrese Constante Aditiva: 5\n",
      "\n",
      "Rachas = [' ', 1, 1, 1, 1, 0, 0, 0, 1, 0, 1, 1, 1, 0, 1, 1, 0, 1, 0, 0, 1, 0, 1, 0, 1, 0, 1, 1, 0, 1, 0, 1, 0, 1, 0, 1, 0, 1, 0, 1, 0, 1, 1, 1, 0, 0, 1, 0, 0, 1, 0, 0, 1, 1, 0, 1, 0, 1, 0, 1, 0, 0, 0, 1, 0, 1, 1, 1, 1, 1, 0, 0, 1, 1, 0, 1, 1, 1, 0, 1, 0, 1, 1, 0, 0, 0, 1, 1, 1, 0, 0, 1, 0, 1, 1, 1, 0, 1, 1, 0]\n",
      " \n",
      "Numero de rachas= 64\n",
      "\n",
      "Z = -0.5584829866163423\n"
     ]
    }
   ],
   "source": [
    "import numpy as np\n",
    "import matplotlib.pyplot as plt\n",
    "import math\n",
    "\n",
    "x = float(input(\"Ingrese Semilla: \"))\n",
    "a = float(input(\"Ingrese Multiplicador: \"))\n",
    "c = float(input(\"Ingrese Constante Aditiva: \"))\n",
    "#m = float(input(\"Modulo: \"))\n",
    "m = float (math.pow(2,16)+1)\n",
    "can = float (100)\n",
    "k = 11  #cantidad de particiones para el intervalo [0,1]\n",
    "ite = 0\n",
    "res = 0\n",
    "lista = []\n",
    "rachas = []           \n",
    "rachas.append(' ')\n",
    "\n",
    "while(can != ite):\n",
    "    if(ite == 0):\n",
    "        res = x\n",
    "    x = (a * x + c) % m\n",
    "    y = x / m\n",
    "    #print ite, \"\\t\",y,\"\\t\",x\n",
    "    ite = ite + 1\n",
    "    lista.append(y)\n",
    "    #print lista\n",
    "\n",
    "\"\"\"Retorna el valor estadístico de contraste Z para determinar la aleatoriedad.\"\"\"\n",
    "#Completando con ceros los demás valores de la lista.    \n",
    "for i in range(1, len(lista)):\n",
    "    rachas.append(0)\n",
    "        \n",
    "#Recorriendo la secuencia y llenando con 1 ó 0.   \n",
    "for i in range(0, len(lista) - 1):\n",
    "    if lista [i + 1] > lista[i]:\n",
    "        rachas[i + 1] = 1\n",
    "print ('\\nRachas = ' + str(rachas))\n",
    "    \n",
    "#Determinando el número de rachas de la secuencia.\n",
    "numRachas = 0\n",
    "print (rachas[0])\n",
    "for i in range(1, len(rachas) - 1):\n",
    "    if rachas[i + 1] != rachas[i]:\n",
    "        numRachas += 1\n",
    "numRachas += 1\n",
    "print ('Numero de rachas= ' + str(numRachas) + '\\n')\n",
    "        \n",
    "#Calculando el estadístico de contraste Z.  \n",
    "n = len(lista)\n",
    "z = (numRachas - ((2 * n - 1) / float(3))) / (math.sqrt(( 16 * n - 29)/float(90)))\n",
    "print ('Z = ' + str(z))"
   ]
  },
  {
   "cell_type": "code",
   "execution_count": null,
   "metadata": {
    "collapsed": true
   },
   "outputs": [],
   "source": []
  }
 ],
 "metadata": {
  "kernelspec": {
   "display_name": "Python [Root]",
   "language": "python",
   "name": "Python [Root]"
  },
  "language_info": {
   "codemirror_mode": {
    "name": "ipython",
    "version": 3
   },
   "file_extension": ".py",
   "mimetype": "text/x-python",
   "name": "python",
   "nbconvert_exporter": "python",
   "pygments_lexer": "ipython3",
   "version": "3.5.2"
  }
 },
 "nbformat": 4,
 "nbformat_minor": 0
}
