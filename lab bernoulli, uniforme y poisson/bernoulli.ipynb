{
 "cells": [
  {
   "cell_type": "code",
   "execution_count": 13,
   "metadata": {
    "collapsed": false
   },
   "outputs": [
    {
     "name": "stdout",
     "output_type": "stream",
     "text": [
      "1\n"
     ]
    },
    {
     "data": {
      "image/png": "[encoded data removed]",
      "text/plain": [
       "<matplotlib.figure.Figure at 0x24d35faa390>"
      ]
     },
     "metadata": {},
     "output_type": "display_data"
    }
   ],
   "source": [
    "%matplotlib inline \n",
    "import matplotlib.pyplot as plt\n",
    "import numpy as np\n",
    "\n",
    "semilla = 9\n",
    "def  congruencial(x0):\n",
    "    a = 1664525\n",
    "    b = 1013904223\n",
    "    m = 2**32\n",
    "    xi = x0\n",
    "    ui =0\n",
    "    xi = (a*xi + b)%(m)\n",
    "    ui = float(xi)/float(m)\n",
    "\n",
    "    return xi,ui\n",
    "\n",
    "        \n",
    "def  Bernoulli():\n",
    "    Bernoulli = [0,1]\n",
    "   \n",
    "    return Bernoulli\n",
    "\n",
    "def acumulada(dis):\n",
    "    pxacum = []\n",
    "    for x in range(len(dis)):\n",
    "        if(x == 0):\n",
    "            pxacum.append(dis[x])\n",
    "        else:\n",
    "            suma = pxacum[x-1]+dis[x]\n",
    "            pxacum.append(suma)\n",
    "        \n",
    "    return pxacum\n",
    "\n",
    "def inversion(acum,semilla,itera):\n",
    "    inver = []\n",
    "    xi = semilla\n",
    "    for i in range(itera):\n",
    "        xi,random = congruencial(xi)\n",
    "        #print('iteracion : ')\n",
    "        #print(random)\n",
    "        for x in range(len(acum)):\n",
    "            if(random <=acum[x]):\n",
    "                #print(x+1)\n",
    "                inver.append(x+1) \n",
    "                break\n",
    "    return inver\n",
    "\n",
    "\n",
    "fx = Bernoulli()\n",
    "\n",
    "print(np.sum(fx))\n",
    "pxacum = acumulada(fx)\n",
    "\n",
    "\n",
    "\n",
    "inversi = inversion(pxacum,semilla,5000)\n",
    "\n",
    "num_bins = 60\n",
    "n, bins, patches = plt.hist(inversi, num_bins, normed=1, facecolor='blue', alpha=0.5)\n",
    "\n",
    "plt.xlabel('Numeros aleatorios')\n",
    "plt.ylabel('Probabilidad')\n",
    "plt.title('Histograma parametros')\n",
    "\n",
    "plt.subplots_adjust(left=0.2)\n",
    "plt.show()"
   ]
  },
  {
   "cell_type": "code",
   "execution_count": null,
   "metadata": {
    "collapsed": true
   },
   "outputs": [],
   "source": []
  }
 ],
 "metadata": {
  "anaconda-cloud": {},
  "kernelspec": {
   "display_name": "Python [Root]",
   "language": "python",
   "name": "Python [Root]"
  },
  "language_info": {
   "codemirror_mode": {
    "name": "ipython",
    "version": 3
   },
   "file_extension": ".py",
   "mimetype": "text/x-python",
   "name": "python",
   "nbconvert_exporter": "python",
   "pygments_lexer": "ipython3",
   "version": "3.5.2"
  }
 },
 "nbformat": 4,
 "nbformat_minor": 0
}
