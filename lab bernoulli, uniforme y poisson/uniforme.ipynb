{
 "cells": [
  {
   "cell_type": "code",
   "execution_count": 9,
   "metadata": {
    "collapsed": false
   },
   "outputs": [
    {
     "name": "stdout",
     "output_type": "stream",
     "text": [
      "a: 20\n",
      "b: 60\n"
     ]
    },
    {
     "data": {
      "image/png": "[encoded data removed]",
      "text/plain": [
       "<matplotlib.figure.Figure at 0x184ee6984e0>"
      ]
     },
     "metadata": {},
     "output_type": "display_data"
    }
   ],
   "source": [
    "%matplotlib inline \n",
    "import matplotlib.pyplot as plt\n",
    "import numpy as np\n",
    "\n",
    "iteraciones=5000\n",
    "#congruencial\n",
    "x0 = 9\n",
    "a = 1664525\n",
    "b = 1013904223\n",
    "m = 2**32\n",
    "pxcong=[]\n",
    "\n",
    "xi = x0\n",
    "ui =0\n",
    "for x in range(iteraciones):\n",
    "    xi = (a*xi + b)%(m)\n",
    "    ui = float(xi)/float(m)\n",
    "    pxcong.append(ui)\n",
    "#print(pxcong)\n",
    "\n",
    "#generador uniforme\n",
    "a =int(input(\"a: \"))\n",
    "b =int(input(\"b: \"))\n",
    "uniforme = []\n",
    "y = b-a\n",
    "for i in range(y):\n",
    "    uniforme.append(1/float(y))\n",
    "#print(uniforme)\n",
    "\n",
    "#acumulada\n",
    "Pxacum=[]\n",
    "for k in range(len(uniforme)):\n",
    "    if (k==0):\n",
    "        Pxacum.append(uniforme[k])\n",
    "    else:\n",
    "        Pxacum.append(Pxacum[k-1]+uniforme[k])\n",
    "#print(Pxacum)\n",
    "\n",
    "#inversor\n",
    "xx=[]\n",
    "for h in range(iteraciones):\n",
    "    num=pxcong[h]\n",
    "    #print(num)\n",
    "    for i in range(len(Pxacum)):\n",
    "        if (num <= Pxacum[i]):\n",
    "            xx.append(i+1)\n",
    "            break\n",
    "#print(xx)\n",
    "\n",
    "num_bins = 50\n",
    "n, bins, patches = plt.hist(xx, num_bins, normed=1, facecolor='green', alpha=0.5)\n",
    "\n",
    "plt.xlabel('Numeros aleatorios')\n",
    "plt.ylabel('Probabilidad')\n",
    "plt.title('Histograma parametros')\n",
    "\n",
    "plt.subplots_adjust(left=0.15)\n",
    "plt.show()"
   ]
  },
  {
   "cell_type": "code",
   "execution_count": null,
   "metadata": {
    "collapsed": true
   },
   "outputs": [],
   "source": []
  }
 ],
 "metadata": {
  "anaconda-cloud": {},
  "kernelspec": {
   "display_name": "Python [Root]",
   "language": "python",
   "name": "Python [Root]"
  },
  "language_info": {
   "codemirror_mode": {
    "name": "ipython",
    "version": 3
   },
   "file_extension": ".py",
   "mimetype": "text/x-python",
   "name": "python",
   "nbconvert_exporter": "python",
   "pygments_lexer": "ipython3",
   "version": "3.5.2"
  }
 },
 "nbformat": 4,
 "nbformat_minor": 0
}
