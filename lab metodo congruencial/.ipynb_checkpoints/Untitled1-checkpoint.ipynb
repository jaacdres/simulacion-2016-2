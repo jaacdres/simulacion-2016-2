{
 "cells": [
  {
   "cell_type": "code",
   "execution_count": 8,
   "metadata": {
    "collapsed": false
   },
   "outputs": [
    {
     "name": "stdout",
     "output_type": "stream",
     "text": [
      "0.25\n",
      "0.34375\n",
      "0.8125\n",
      "0.15625\n",
      "0.875\n",
      "0.46875\n",
      "0.4375\n",
      "0.28125\n",
      "0.5\n",
      "0.59375\n",
      "0.0625\n",
      "0.40625\n",
      "0.125\n",
      "0.71875\n",
      "0.6875\n",
      "0.53125\n",
      "0.75\n",
      "0.84375\n",
      "0.3125\n",
      "0.65625\n",
      "0.375\n",
      "0.96875\n",
      "0.9375\n",
      "0.78125\n",
      "0.0\n",
      "0.09375\n",
      "0.5625\n",
      "0.90625\n",
      "0.625\n",
      "0.21875\n",
      "0.1875\n",
      "0.03125\n"
     ]
    }
   ],
   "source": [
    "#metodo congruencial\n",
    "x0 = 1\n",
    "a = 5\n",
    "b = 3\n",
    "m = 32\n",
    "xi = x0\n",
    "ui =0\n",
    "\n",
    "for x in range(32):\n",
    "    xi = (a*xi + b)%(m)\n",
    "    ui = float(xi)/float(m)\n",
    "    print(ui)"
   ]
  },
  {
   "cell_type": "code",
   "execution_count": null,
   "metadata": {
    "collapsed": true
   },
   "outputs": [],
   "source": []
  }
 ],
 "metadata": {
  "kernelspec": {
   "display_name": "Python [Root]",
   "language": "python",
   "name": "Python [Root]"
  },
  "language_info": {
   "codemirror_mode": {
    "name": "ipython",
    "version": 3
   },
   "file_extension": ".py",
   "mimetype": "text/x-python",
   "name": "python",
   "nbconvert_exporter": "python",
   "pygments_lexer": "ipython3",
   "version": "3.5.2"
  }
 },
 "nbformat": 4,
 "nbformat_minor": 0
}
