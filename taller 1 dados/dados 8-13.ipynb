{
 "cells": [
  {
   "cell_type": "code",
   "execution_count": 27,
   "metadata": {
    "collapsed": false
   },
   "outputs": [
    {
     "name": "stdout",
     "output_type": "stream",
     "text": [
      "[1, 2, 3, 4, 5, 6, 7, 8, 8, 8, 8, 8, 8, 7, 6, 5, 4, 3, 2, 1]\n",
      "valor esperado : 11.5\n"
     ]
    },
    {
     "data": {
      "image/png": "[encoded data removed]",
      "text/plain": [
       "<matplotlib.figure.Figure at 0x2312f36b470>"
      ]
     },
     "metadata": {},
     "output_type": "display_data"
    }
   ],
   "source": [
    "import numpy as np\n",
    "import matplotlib.pylab as plt\n",
    "\n",
    "\n",
    "def Cm(generador=1):\n",
    "    nums= []\n",
    "    Xn = 7\n",
    "    a = 7\n",
    "    c = 1\n",
    "    m = 16547\n",
    "    \n",
    "    \n",
    "    for iterator in range(generador):        \n",
    "        Xn_1 = (a*Xn + c)% m        \n",
    "        out = float(Xn_1)/float(m)    \n",
    "        nums.append(out)\n",
    "        Xn = Xn_1\n",
    "    return nums\n",
    "\n",
    "x = np.arange(2,22)\n",
    "def px():\n",
    "    z=[]\n",
    "    for i in range(1,8):\n",
    "        z.append(i)\n",
    "    for i in range(6):\n",
    "        z.append(8)\n",
    "    for j in range(7,0,-1):\n",
    "        z.append(j)\n",
    "    print (z) \n",
    "    pj=[]\n",
    "    for i in range(len(z)):\n",
    "        pj.append(float(z[i])/float(104))\n",
    "\n",
    "    return pj\n",
    "\n",
    "def valoresperado(x,px):\n",
    "    e_x = []\n",
    "    for index in range( len(x)):\n",
    "        e_x.append(x[index]*px[index]) \n",
    "    ex = np.sum(e_x)\n",
    "    \n",
    "    str (ex)\n",
    "    return ex   \n",
    "\n",
    "    \n",
    "x = np.arange(2,22)\n",
    "px = px()\n",
    "\n",
    "print ('valor esperado :' , valoresperado(x,px))\n",
    "\n",
    "\n",
    "    \n",
    "count, bins, ignored = plt.hist(w, 80, normed=True)\n",
    "plt.show()"
   ]
  },
  {
   "cell_type": "code",
   "execution_count": null,
   "metadata": {
    "collapsed": true
   },
   "outputs": [],
   "source": []
  }
 ],
 "metadata": {
  "kernelspec": {
   "display_name": "Python [Root]",
   "language": "python",
   "name": "Python [Root]"
  }
 },
 "nbformat": 4,
 "nbformat_minor": 0
}
