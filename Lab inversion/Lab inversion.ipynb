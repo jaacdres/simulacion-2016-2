{
 "cells": [
  {
   "cell_type": "code",
   "execution_count": 3,
   "metadata": {
    "collapsed": false
   },
   "outputs": [
    {
     "name": "stdout",
     "output_type": "stream",
     "text": [
      "[0.034, 0.109, 0.334, 0.009, 0.034, 0.109]\n",
      "[0.05, 0.2, 0.5, 0.8, 0.9500000000000001, 1.0]\n",
      "[1, 2, 3, 1, 1, 2]\n"
     ]
    }
   ],
   "source": [
    "import numpy as np\n",
    "x0 = 9\n",
    "a = 3\n",
    "b = 7\n",
    "m = 1000\n",
    "pxcong=[]\n",
    "pxdados=[0.05,0.15,0.3,0.3,0.15,0.05]\n",
    "Pxacum=[]\n",
    "\n",
    "\n",
    "xi = x0\n",
    "ui =0\n",
    "for x in range(6):\n",
    "    xi = (a*xi + b)%(m)\n",
    "    ui = float(xi)/float(m)\n",
    "    pxcong.append(ui)\n",
    "\n",
    "\n",
    "for k in range(6):\n",
    "    if (k==0):\n",
    "        Pxacum.append(pxdados[k])\n",
    "    else:\n",
    "        Pxacum.append(Pxacum[k-1]+pxdados[k])\n",
    "#print(Pxacum) \n",
    "   # print(ui)\n",
    "xx=[]\n",
    "for h in range(len(pxdados)):\n",
    "    num=pxcong[h]\n",
    "    #print(num)\n",
    "    for i in range(len(Pxacum)):\n",
    "        if (num <= Pxacum[i]):\n",
    "            xx.append(i+1)\n",
    "            break\n",
    "print(pxcong)\n",
    "print(Pxacum)\n",
    "print(xx)"
   ]
  },
  {
   "cell_type": "code",
   "execution_count": null,
   "metadata": {
    "collapsed": true
   },
   "outputs": [],
   "source": []
  },
  {
   "cell_type": "code",
   "execution_count": null,
   "metadata": {
    "collapsed": true
   },
   "outputs": [],
   "source": []
  }
 ],
 "metadata": {
  "anaconda-cloud": {},
  "kernelspec": {
   "display_name": "Python [Root]",
   "language": "python",
   "name": "Python [Root]"
  },
  "language_info": {
   "codemirror_mode": {
    "name": "ipython",
    "version": 3
   },
   "file_extension": ".py",
   "mimetype": "text/x-python",
   "name": "python",
   "nbconvert_exporter": "python",
   "pygments_lexer": "ipython3",
   "version": "3.5.2"
  }
 },
 "nbformat": 4,
 "nbformat_minor": 0
}
