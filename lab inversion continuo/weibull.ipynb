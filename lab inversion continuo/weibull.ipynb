{
 "cells": [
  {
   "cell_type": "code",
   "execution_count": 32,
   "metadata": {
    "collapsed": false
   },
   "outputs": [
    {
     "data": {
      "image/png": "[encoded data removed]",
      "text/plain": [
       "<matplotlib.figure.Figure at 0x1edc151eb00>"
      ]
     },
     "metadata": {},
     "output_type": "display_data"
    }
   ],
   "source": [
    "%matplotlib inline \n",
    "import matplotlib.pyplot as plt\n",
    "import math\n",
    "\n",
    "def  congruencial(x0):\n",
    "    a = 1664525\n",
    "    b = 1013904223\n",
    "    m = 2**32\n",
    "    xi = x0\n",
    "    ui =0\n",
    "    xi = (a*xi + b)%(m)\n",
    "    ui = float(xi)/float(m)\n",
    "\n",
    "    return ui,xi\n",
    "\n",
    "def weibull(iteraciones,k,lamda,semilla):\n",
    "    x0 = semilla\n",
    "    x = []\n",
    "    for i in range(iteraciones):\n",
    "        p,x0 = congruencial(x0)\n",
    "        \n",
    "        prov = lamda*(-math.log(1-p))**(1/k)\n",
    "        x.append(prov)\n",
    "        \n",
    "    return x\n",
    "\n",
    "def weibullteorico(iteraciones,k,lamda):\n",
    "    teoricoX = []\n",
    "    teoricoY = []\n",
    "    iteraciones = iteraciones*100\n",
    "    for i in range(iteraciones):\n",
    "      \n",
    "        x = float(float(i)/100.0)\n",
    "        \n",
    "        numY = (k/lamda)*(x/lamda)**(k-1)*math.exp(-(x/lamda)**k)\n",
    "        teoricoY.append(numY)\n",
    "        teoricoX.append(x)\n",
    "        \n",
    "    return teoricoX,teoricoY\n",
    "    \n",
    "iteraciones = 5000\n",
    "\n",
    "\n",
    "lamda = 0.6\n",
    "k = 1.5\n",
    "semilla = 9\n",
    "rango = 2\n",
    "ax = plt.gca()\n",
    "weibull = weibull(iteraciones,k,lamda,semilla)\n",
    "\n",
    "weibullX,weibullY = weibullteorico(rango,k,lamda)\n",
    "\n",
    "count, bins, ignored = plt.hist(weibull, 25, normed=True,color = 'blue')\n",
    "ax.plot(weibullX,weibullY,'green',linewidth=2.5)\n",
    "plt.show()"
   ]
  },
  {
   "cell_type": "code",
   "execution_count": null,
   "metadata": {
    "collapsed": true
   },
   "outputs": [],
   "source": []
  }
 ],
 "metadata": {
  "kernelspec": {
   "display_name": "Python [Root]",
   "language": "python",
   "name": "Python [Root]"
  },
  "language_info": {
   "codemirror_mode": {
    "name": "ipython",
    "version": 3
   },
   "file_extension": ".py",
   "mimetype": "text/x-python",
   "name": "python",
   "nbconvert_exporter": "python",
   "pygments_lexer": "ipython3",
   "version": "3.5.2"
  }
 },
 "nbformat": 4,
 "nbformat_minor": 0
}
