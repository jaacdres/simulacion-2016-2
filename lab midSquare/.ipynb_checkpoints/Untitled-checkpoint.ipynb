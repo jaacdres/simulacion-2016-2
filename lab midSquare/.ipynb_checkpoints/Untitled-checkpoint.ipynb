{
 "cells": [
  {
   "cell_type": "code",
   "execution_count": 2,
   "metadata": {
    "collapsed": false
   },
   "outputs": [
    {
     "name": "stdout",
     "output_type": "stream",
     "text": [
      "Ingrese un numero, cantidad de digitos par: 12\n",
      "Cantidad de numeros a generar: 5\n",
      "[14, 19, 36, 29, 84]\n"
     ]
    }
   ],
   "source": [
    "def main():\n",
    "    seed=1\n",
    "    while not (len(str(seed))%2==0):\n",
    "        seed = int(input('Ingrese un numero, cantidad de digitos par: '))\n",
    "    n=int(input('Cantidad de numeros a generar: '))\n",
    "    \n",
    "    list=[] \n",
    "\n",
    "    x=0\n",
    "    while x < n:\n",
    "        square=seed*seed\n",
    "        strsquare=str(square) \n",
    "        if(len(strsquare)%2!=0):\n",
    "            strsquare='0'+strsquare\n",
    "        lsquare=len(strsquare)\n",
    "        lseed=len(str(seed))\n",
    "        seed=int(strsquare[(lsquare//2)-(lseed//2):(lsquare//2)+(lseed//2)])\n",
    "        list.append(seed)\n",
    "        x=x+1\n",
    "\n",
    "    print (list)\n",
    "\n",
    "if __name__ == '__main__':\n",
    "    main()"
   ]
  },
  {
   "cell_type": "code",
   "execution_count": null,
   "metadata": {
    "collapsed": true
   },
   "outputs": [],
   "source": []
  }
 ],
 "metadata": {
  "kernelspec": {
   "display_name": "Python [Root]",
   "language": "python",
   "name": "Python [Root]"
  },
  "language_info": {
   "codemirror_mode": {
    "name": "ipython",
    "version": 3
   },
   "file_extension": ".py",
   "mimetype": "text/x-python",
   "name": "python",
   "nbconvert_exporter": "python",
   "pygments_lexer": "ipython3",
   "version": "3.5.2"
  }
 },
 "nbformat": 4,
 "nbformat_minor": 0
}
